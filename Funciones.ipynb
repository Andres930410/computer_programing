{
  "nbformat": 4,
  "nbformat_minor": 0,
  "metadata": {
    "colab": {
      "name": "Funciones.ipynb",
      "provenance": [],
      "collapsed_sections": [],
      "toc_visible": true
    },
    "kernelspec": {
      "name": "python3",
      "display_name": "Python 3"
    },
    "language_info": {
      "name": "python"
    }
  },
  "cells": [
    {
      "cell_type": "markdown",
      "metadata": {
        "id": "OgHHrOFSe_gt"
      },
      "source": [
        "# Funciones\n",
        "\n",
        "Una función es una sección nombrada de codigo que realiza una tarea especifica. Usualmente toman alguna entrada, manipulan estas y devuelven una salida.\n",
        "\n",
        "$f : A → B$, al conjunto $A$ se le denomina dominio y al conjunto $B$ como rango. A partir de estos objetos se construye el encabezado de las funciones de programación.\n",
        "\n",
        "Sobre esta función se tiene que $f$ corresponde al nombre de la función, el conjunto $A$ corresponde al tipo del argumento (pueden ser varios argumentos) de dicha función y el conjunto $B$ que es el rango corresponderá al tipo de dato de retorno de dicha función (pueden ser varios también).\n",
        "\n",
        "```\n",
        "def function_name(paremeter_1, ... , parameter_n):\n",
        "  # Logic of the function\n",
        "  return some_result\n",
        "```"
      ]
    },
    {
      "cell_type": "code",
      "metadata": {
        "colab": {
          "base_uri": "https://localhost:8080/"
        },
        "id": "UCdA1FUDdi86",
        "outputId": "5f0a55d3-2807-42de-e4ad-14af2e0c33e0"
      },
      "source": [
        "def sum(first, second):\n",
        "  return first + second\n",
        "\n",
        "print(sum(5,10))"
      ],
      "execution_count": null,
      "outputs": [
        {
          "output_type": "stream",
          "name": "stdout",
          "text": [
            "15\n"
          ]
        }
      ]
    },
    {
      "cell_type": "markdown",
      "metadata": {
        "id": "fG8Vh32ZgOib"
      },
      "source": [
        "## De un parametro\n"
      ]
    },
    {
      "cell_type": "markdown",
      "metadata": {
        "id": "6xPRNlz5sWWL"
      },
      "source": [
        "### **Cuadrado de un número**\n",
        "Se definirá  una función que eleve un número al cuadrado. Para expresar una función que calcule esta operación, en primera instancia se construye la expresión $f : R → R$ que define la función que tiene como entrada (dominio) un número real y como salida (rango) un número real.\n",
        "\n",
        "\n",
        "$f : \\mathbb R → \\mathbb R$\n",
        "\n",
        "$(x) → x^{2}$\n",
        "\n",
        "Esta función también podría notarse como:\n",
        "\n",
        "$f=\\{(x,x^{2}):(x∈ \\mathbb R)\\}$"
      ]
    },
    {
      "cell_type": "code",
      "metadata": {
        "colab": {
          "base_uri": "https://localhost:8080/"
        },
        "id": "d4jhGg-sjOfY",
        "outputId": "3645f255-bed0-45e7-dc0b-bf4ee50aa674"
      },
      "source": [
        "def f(x):\n",
        "  return x * x\n",
        "\n",
        "def f_1(x):\n",
        "  return x ** 2\n",
        "\n",
        "print(f(5))\n",
        "print(f_1(5))\n"
      ],
      "execution_count": null,
      "outputs": [
        {
          "output_type": "stream",
          "name": "stdout",
          "text": [
            "25\n",
            "25\n"
          ]
        }
      ]
    },
    {
      "cell_type": "markdown",
      "metadata": {
        "id": "UokOUPPQkcgb"
      },
      "source": [
        "Otra posible escritura de esta función podría obtenerse almacenando el valor del cálculo en una variable auxiliar a la que se le aplique una y exactamente una tabulación con respecto a la línea superior, y en la siguiente línea se retorne la variable, manteniendo la alineación actual, como se muestra a continuación"
      ]
    },
    {
      "cell_type": "code",
      "metadata": {
        "id": "N-qeEBv4kylK"
      },
      "source": [
        "def f_2(x):\n",
        "  y = x ** 2\n",
        "  return y"
      ],
      "execution_count": null,
      "outputs": []
    },
    {
      "cell_type": "markdown",
      "metadata": {
        "id": "IOxlVt_Ok6gH"
      },
      "source": [
        "Esto es similar al caso cuando se utiliza la notación funcional\n",
        "\n",
        "$f (x) = y$\n",
        "\n",
        "donde $x$ es la variable independiente y $y$ es la variable dependiente."
      ]
    },
    {
      "cell_type": "markdown",
      "metadata": {
        "id": "2C4b8Xf1mCRE"
      },
      "source": [
        "### **Área de un círculo**\n",
        "\n",
        "Para el desarrollo de esta función lo primero es determinar el nombre. La función se llamará *area circulo* cuyo dominio es el conjunto de los números reales (para el radio) y cuyo rango pertenece al conjunto de los números reales (el valor de retorno que corresponde al área del círculo).\n",
        "\n",
        "Teniendo en cuenta que el algoritmo para el cálculo del  ́area de un círculo depende del valor de su radio, entonces, el área del círculo está dada por la expresión \n",
        "\n",
        "$A_{c} = πr^{2}$, donde las variables están definidas así:\n",
        "\n",
        "$r $ := Radio del círculo\n",
        "\n",
        "$A_{c} $ := Área del círculo de radio $r$\n",
        "\n",
        "entonces, el planteamiento matemático de la función solicitada será el siguiente\n",
        "\n",
        "$area circulo : \\mathbb R → \\mathbb R$\n",
        "\n",
        "$(r) → πr^{2}$\n",
        "\n",
        "Para utilizar el valor de $π$ se debe tomar una aproximación, ya que $π$ es un número irracional, esta aproximación podría ser el valor 3.14159265 o usar la libreria de math para tener un valor mas exacto.\n"
      ]
    },
    {
      "cell_type": "code",
      "metadata": {
        "colab": {
          "base_uri": "https://localhost:8080/"
        },
        "id": "TvTnZpOzqUG0",
        "outputId": "700c70f4-20cf-4476-a1ca-e87892dec5ef"
      },
      "source": [
        "import math\n",
        "\n",
        "def area_circulo(r):\n",
        "  return 3.14159265 * r ** 2\n",
        "\n",
        "def area_circulo_1(r):\n",
        "  return math.pi * r ** 2\n",
        "\n",
        "print(area_circulo(3))\n",
        "print(area_circulo_1(3))"
      ],
      "execution_count": null,
      "outputs": [
        {
          "output_type": "stream",
          "name": "stdout",
          "text": [
            "28.27433385\n",
            "28.274333882308138\n"
          ]
        }
      ]
    },
    {
      "cell_type": "markdown",
      "metadata": {
        "id": "Ibay40kErlZU"
      },
      "source": [
        "Otra posible escritura de esta función podría obtenerse almacenando el valor del área del círculo en una variable auxiliar a la que se le aplique una y exactamente una tabulación con respecto a la línea superior, y en la siguiente línea se retorne la variable, manteniendo la alineación actual, como se muestra a continuación\n",
        "\n",
        "area circulo(r) = area\n"
      ]
    },
    {
      "cell_type": "code",
      "metadata": {
        "colab": {
          "base_uri": "https://localhost:8080/"
        },
        "id": "8bDyRxwhr4ZT",
        "outputId": "0c458e4d-acda-49fb-a963-be8d55c6d82b"
      },
      "source": [
        "import math\n",
        "\n",
        "def area_circulo_2(r):\n",
        "  area = math.pi * r ** 2\n",
        "  return area\n",
        "\n",
        "print(area_circulo_2(3))"
      ],
      "execution_count": null,
      "outputs": [
        {
          "output_type": "stream",
          "name": "stdout",
          "text": [
            "28.274333882308138\n"
          ]
        }
      ]
    },
    {
      "cell_type": "markdown",
      "metadata": {
        "id": "ffxKxZcTsesr"
      },
      "source": [
        "### **Conversión de tipos de datos numéricos**\n",
        "\n",
        "*De entero a real*: dado un dato o una variable de tipo entero, si se opera o se asigna el dato o la variable con un dato o una variable de tipo real, entonces al realizar la operación o la asignación, el dato entero se convierte (se promueve) a un dato de tipo real de forma automática, simplemente agregándole la parte decimal “.0”.\n",
        "\n",
        "Para las asignaciones\n",
        "\n",
        "```\n",
        "n=1\n",
        "x = float(n)\n",
        "y = float(0) \n",
        "z = float(-2)\n",
        "```\n",
        "\n",
        "<table>\n",
        "  <tr>\n",
        "    <td>n</td>\n",
        "    <td>1</td>\n",
        "  </tr>\n",
        "  <tr>\n",
        "    <td>x</td>\n",
        "    <td>1.0</td>\n",
        "  </tr>\n",
        "  <tr>\n",
        "    <td>y</td>\n",
        "    <td>0.0</td>\n",
        "  </tr>\n",
        "  <tr>\n",
        "    <td>z</td>\n",
        "    <td>-2.0</td>\n",
        "  </tr>\n",
        "</table>\n",
        "\n",
        "Las siguientes operaciones son equivalentes\n",
        "```\n",
        "-2+1.0 → -2.0+1.0\n",
        "0.0*5 → 0.0*5.0\n",
        "(5//2)*2.0 → 2*2.0 → 2.0*2.0\n",
        "(5.0/2)*2 → (5.0/2.0)*2 → 2.5*2 → 2.5 * 2.0\n",
        "```\n",
        "\n",
        "*De real a entero*: dado un dato o una variable de tipo real, si se aplica la función int( ) al dato o la variable, entonces el valor del dato o la variable se convierte (se promueve) a un dato de tipo entero, simplemente elimina la parte decimal del real y dejando la parte entera.\n",
        "\n",
        "Para las siguientes asignaciones en Python\n",
        "```\n",
        "x = 1.0\n",
        "y = -2.5\n",
        "n = int(x)\n",
        "m = int(y)\n",
        "p = int(3.14159265)\n",
        "```\n",
        "\n",
        "<table>\n",
        "  <tr>\n",
        "    <td>x</td>\n",
        "    <td>1.0</td>\n",
        "  </tr>\n",
        "  <tr>\n",
        "    <td>y</td>\n",
        "    <td>-2.5</td>\n",
        "  </tr>\n",
        "  <tr>\n",
        "    <td>n</td>\n",
        "    <td>1</td>\n",
        "  </tr>\n",
        "  <tr>\n",
        "    <td>m</td>\n",
        "    <td>-2</td>\n",
        "  </tr>\n",
        "   <tr>\n",
        "    <td>p</td>\n",
        "    <td>3</td>\n",
        "  </tr>\n",
        "</table>\n",
        "\n",
        "Las siguientes operaciones son equivalentes\n",
        "\n",
        "```\n",
        "2*int(2.5) → 2*2 \n",
        "int(-3.14) * int(5.5) → -3 * 5\n",
        "2/(2.5-int(2.5)) → 2/(2.5-2) → 2/(0.5) → 2/0.5 → 2.0/0.5\n",
        "```\n",
        "\n",
        "```\n",
        "x = 0.4\n",
        "y = 2.5\n",
        "n = int(x) * int(y)\n",
        "```\n",
        "\n",
        "```\n",
        "x = 0.4\n",
        "y = 2.5 \n",
        "n=0*2\n",
        "```\n"
      ]
    },
    {
      "cell_type": "markdown",
      "metadata": {
        "id": "Mi38i0IXw9L-"
      },
      "source": [
        "## Con más de parametro de entrada\n"
      ]
    },
    {
      "cell_type": "markdown",
      "metadata": {
        "id": "dh4ozJ2kxXpz"
      },
      "source": [
        "### **Área de un rectangulo**\n",
        "Las funciones están definidas en la forma $f : A → B$, siendo $A$ y $B$ conjuntos. Esta definición nos permite utilizar productos cartesianos generalizados como dominio en la declaración de las funciones.\n",
        "\n",
        "La función que calcula el área de un rectángulo es una función que tiene como parámetros de entrada el ancho y el largo del rectángulo que son valores de tipo real y retorna como salida el área del rectángulo. Lo que puede escribirse como\n",
        "\n",
        "area rectangulo : $\\mathbb R × \\mathbb R → \\mathbb R$.\n",
        "\n",
        "Para el cálculo del área de un rectángulo es necesario conocer el largo y el ancho del rectángulo, a partir de los cuales el área del rectángulo está dada por la expresión \n",
        "\n",
        "$A_r$ = l ∗ a, donde las variables están definidas así:\n",
        "\n",
        "l := Largo del rectángulo \n",
        "\n",
        "a := Ancho del rectángulo\n",
        "\n",
        "$A_r$ := Área del rectángulo de largo l y ancho a\n",
        "\n",
        "entonces, la función matemática queda definida de la siguiente forma\n",
        "\n",
        "area rectangulo : $\\mathbb R × \\mathbb R → \\mathbb R$\n",
        "\n",
        "(l , a) → l ∗ a\n"
      ]
    },
    {
      "cell_type": "code",
      "metadata": {
        "colab": {
          "base_uri": "https://localhost:8080/"
        },
        "id": "KaYd1BxI0lCc",
        "outputId": "a792e27d-415a-43f6-b160-f2999f5ef9e3"
      },
      "source": [
        "def area_rectangulo(l, a): \n",
        "  return l * a\n",
        "\n",
        "print(area_rectangulo(4,3))"
      ],
      "execution_count": null,
      "outputs": [
        {
          "output_type": "stream",
          "name": "stdout",
          "text": [
            "12\n"
          ]
        }
      ]
    },
    {
      "cell_type": "markdown",
      "metadata": {
        "id": "dClBIhry0uPi"
      },
      "source": [
        "Otra posible escritura de la función puede ser utilizar una variable que almacene el resultado.\n",
        "\n",
        "Esto es similar al caso cuando se utiliza la notación funcional para expresar la función, las variables independientes y la dependiente.\n",
        "\n",
        "area rectangulo(l,a) = area\n"
      ]
    },
    {
      "cell_type": "code",
      "metadata": {
        "colab": {
          "base_uri": "https://localhost:8080/"
        },
        "id": "vU2TGFqF0_5y",
        "outputId": "4fae82c3-0441-43e1-cdf1-917efa713f95"
      },
      "source": [
        "def area_rectangulo_1(l, a):\n",
        "  area = l * a \n",
        "  return area\n",
        "\n",
        "print(area_rectangulo_1(4,3))"
      ],
      "execution_count": null,
      "outputs": [
        {
          "output_type": "stream",
          "name": "stdout",
          "text": [
            "12\n"
          ]
        }
      ]
    },
    {
      "cell_type": "markdown",
      "metadata": {
        "id": "q2yfABNR1Qux"
      },
      "source": [
        "Podiramos hacer un poco mas dinamico el programa pidiendo entradas al usario utilizando la función input."
      ]
    },
    {
      "cell_type": "code",
      "metadata": {
        "colab": {
          "base_uri": "https://localhost:8080/"
        },
        "id": "daS2t0yC1YWl",
        "outputId": "c92e1967-e2b5-4fa0-d399-bcf346e49081"
      },
      "source": [
        "length = float(input(\"Ingrese el largo: \"))\n",
        "width = float(input(\"Ingrese el ancho: \"))\n",
        "\n",
        "print(area_rectangulo(length,width))"
      ],
      "execution_count": null,
      "outputs": [
        {
          "output_type": "stream",
          "name": "stdout",
          "text": [
            "Ingrese el largo: 5\n",
            "Ingrese el ancho: 4\n",
            "20.0\n"
          ]
        }
      ]
    },
    {
      "cell_type": "markdown",
      "metadata": {
        "id": "StoH89_z2MjX"
      },
      "source": [
        "### **Ley de Coulomb**\n",
        "\n",
        "El m ́odulo de la fuerza con que se atraen o se repelen dos cargas Q1 y Q2 (en culombios) que se encuentran separadas una distancia r (en metros), se puede calcular utilizando la ley de Coulomb que est ́a dada por la expresión\n",
        "\n",
        "$F = k \\frac{Q_1*Q_2}{r^{2}}$\n",
        "\n",
        "donde $k$ se denomina constante eléctrica del medio y está dada por la Constante de Coulomb que en el vacío es igual a\n",
        "\n",
        "$k=9×10^{9}\\frac{Nm^{2}}{C^{2}}$\n",
        "\n",
        "modele matemáticamente, y luego escriba una función en Python que permita calcular el módulo de la fuerza con que se atraen o se repelen dos cargas $Q_1$ y $Q_2$ y que se encuentran separadas una distancia $r$."
      ]
    },
    {
      "cell_type": "markdown",
      "metadata": {
        "id": "E2mtXpEJ3RQv"
      },
      "source": [
        "Para el cálculo de la ley de Coulomb se puede utilizar la siguiente especificación:\n",
        "\n",
        "$Q_1$ := Valor de la primera carga \n",
        "\n",
        "$Q_2$ := Valor de la segunda carga \n",
        "\n",
        "$r$ := Distancia entre las cargas\n",
        "\n",
        "$F$ := Fuerza con la que se atraen o se repelen las cargas $Q_1$ y $Q_2$ que se encuentran a la distancia $r$\n",
        "\n",
        "entonces, el modelo matemático queda definido de la siguiente manera \n",
        "\n",
        "ley coulomb: $\\mathbb R× \\mathbb R× \\mathbb R → \\mathbb R$\n",
        "\n",
        "$(Q_1, Q_1, r)$ → $k \\frac{Q_1*Q_2}{r^{2}}$"
      ]
    },
    {
      "cell_type": "code",
      "metadata": {
        "colab": {
          "base_uri": "https://localhost:8080/"
        },
        "id": "brqFXySN4IiP",
        "outputId": "5035cb25-6d6b-4d23-88a6-7a2dd0aa691d"
      },
      "source": [
        "KAPPA = 9e9\n",
        "\n",
        "def coulomb_law(q1,q2,r):\n",
        "  modulo = KAPPA * q1 * q2 / r ** 2\n",
        "  return modulo\n",
        "\n",
        "charge_1 = float(input(\"Carga 1: \"))\n",
        "charge_2 = float(input(\"Carga 2: \"))\n",
        "distance = float(input(\"Distancia entre cargas: \"))\n",
        "\n",
        "print(\"El módulo de la fuerza es: %.2f\" % (coulomb_law(charge_1,charge_2,distance))) "
      ],
      "execution_count": null,
      "outputs": [
        {
          "output_type": "stream",
          "name": "stdout",
          "text": [
            "Carga 1: 1.6e-6\n",
            "Carga 2: 0.4e-6\n",
            "Distancia entre cargas: 0.3\n",
            "El módulo de la fuerza es: 0.06\n"
          ]
        }
      ]
    },
    {
      "cell_type": "markdown",
      "metadata": {
        "id": "1ByG5q9f5RP2"
      },
      "source": [
        "# Ejercicios\n",
        "\n",
        "\n",
        "1.   Para el sólido que se presenta a continuación\n",
        "\n",
        "![Solidos](https://drive.google.com/uc?id=1x0FVcQ_v4-fYnV2k1Im4FqeaqqfMAm5D)\n",
        "\n",
        "\n",
        "\n",
        "*   Establezca el modelo matemático (función matemática) que permita calcular el volumen del sóolido anteriormente mostrado.\n",
        "*   Escriba una función en Python que implemente la función anteriormente modelada, en la cual se invoque la constante matemática π del módulo math.\n",
        "*   Para los valores $r_1$ =3,$h=\\frac{9}{2}$ y $r_2$ =4,calcule(a mano o con calculadora) el volumen del sólido y compárelo con el resultado obtenido a partir de la evaluación de la función anteriormente implementada. ¿Qué pasa si se invoca la función con los mismos valores, pero h se calcula como la expresión h = 9//2?.\n",
        "\n",
        "\n",
        "\n",
        "2.   Para el vagón que se presenta a continuación\n",
        "![Solidos](https://drive.google.com/uc?id=1lmTBM3lpr58v9_91CMgtXNeqO7T8dthP)\n",
        "\n",
        "\n",
        "\n",
        "*   Establezca el modelo matemático (función matemática) que permita calcular el área lateral del vagón.\n",
        "*   Escriba una función en Python que implemente la función anteriormente modelada, en la cual se invoque la constante matemática π del m ́odulo math.\n",
        "\n",
        "\n",
        "3.  Para el carro que se presenta a continuación\n",
        "![Solidos](https://drive.google.com/uc?id=1Na09QtELFxzaHyIqwEj3mjbotIht0gsY)\n",
        "\n",
        "*   Establezca el modelo matemático (función matemática) que permita calcular el área lateral del carro.\n",
        "*   Escriba una función en Python que implemente la función matemática previamente modelada, en la cual se utilice la composición de las funciones de suma de números reales, area circulo y area rectangulo codificadas previamente.\n",
        "\n",
        "\n",
        "\n",
        "4.   Diseñe una función que calcule la cantidad de carne de aves en kilos si se tienen N gallinas, M gallos y K pollitos cada uno pesando 6 kilos, 7 kilos y 1 kilo respectivamente.\n",
        "5.   Mi mamá me manda a comprar P panes a $300$ cada uno, M bolsas de leche a $3300$ cada una y H huevos a $350$ cada uno. Hacer un programa que me diga las vueltas (o lo que quedo debiendo) cuando me da un billete de B pesos.\n",
        "6. Si pido prestados P cantidad de pesos para pagarlos en dos meses, si el interés del préstamo es del 3%. ¿Cuánto se debe pagar al final del segundo mes si el interés es compuesto mensualmente?.\n",
        "7. El número de contagiados de Covid-19 en el país de NuncaLandia se duplica cada día. Hacer un programa que diga el número total de personas que se han contagiado cuando pasen D días a partir de hoy, si el número de contagiados actuales es C.\n",
        "\n",
        "\n",
        "\n"
      ]
    }
  ]
}